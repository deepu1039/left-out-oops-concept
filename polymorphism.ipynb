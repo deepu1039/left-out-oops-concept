{
 "cells": [
  {
   "cell_type": "code",
   "execution_count": 1,
   "metadata": {},
   "outputs": [
    {
     "name": "stdout",
     "output_type": "stream",
     "text": [
      "JamboAsian elephantsays D. Trump\n",
      "Alexandarpercheronsays neigh\n"
     ]
    }
   ],
   "source": [
    "class Animal():\n",
    "    def __init__(self,name,breed):\n",
    "        self.name=name\n",
    "        self.breed=breed\n",
    "        \n",
    "    def speak(self):\n",
    "        raise NotImplementedError(\"sub class must implement speak method\")\n",
    "        \n",
    "class Elephant(Animal):\n",
    "    def speak(self):\n",
    "        return self.name + self.breed + 'says D. Trump'\n",
    "    \n",
    "class Horse(Animal):\n",
    "    def speak(self):\n",
    "        return self.name + self.breed + 'says neigh'\n",
    "    \n",
    "Jambo=Elephant('Jambo',  'Asian elephant')\n",
    "Alexander=Horse('Alexandar',  'percheron')\n",
    " \n",
    "print(Jambo.speak())\n",
    "print(Alexander.speak())"
   ]
  },
  {
   "cell_type": "code",
   "execution_count": null,
   "metadata": {},
   "outputs": [],
   "source": []
  }
 ],
 "metadata": {
  "kernelspec": {
   "display_name": "Python 3",
   "language": "python",
   "name": "python3"
  },
  "language_info": {
   "codemirror_mode": {
    "name": "ipython",
    "version": 3
   },
   "file_extension": ".py",
   "mimetype": "text/x-python",
   "name": "python",
   "nbconvert_exporter": "python",
   "pygments_lexer": "ipython3",
   "version": "3.7.1"
  }
 },
 "nbformat": 4,
 "nbformat_minor": 2
}
